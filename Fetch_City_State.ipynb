{
 "cells": [
  {
   "cell_type": "code",
   "execution_count": null,
   "metadata": {},
   "outputs": [],
   "source": [
    "from bs4 import BeautifulSoup\n",
    "import requests\n",
    "import csv"
   ]
  },
  {
   "cell_type": "code",
   "execution_count": null,
   "metadata": {},
   "outputs": [],
   "source": [
    "\"\"\"\n",
    "\n",
    "Over here we are getting most of popular cities per state in germany\n",
    "\n",
    "\"\"\"\n",
    "\n",
    "\n",
    "source = requests.get('https://en.wikipedia.org/wiki/List_of_cities_in_Germany_by_population')\n",
    "\n",
    "soup = BeautifulSoup(source.text,'html.parser')\n",
    "\n",
    "#print(soup.prettify())\n",
    "table = soup.find_all('tbody')\n",
    "\n",
    "\n",
    "#print(table[1])\n",
    "\n",
    "#print(table[5])\n",
    "\n",
    "\n",
    "state_list = table[1]\n",
    "#state_list.append(table[1])\n",
    "\n",
    "#print(state_list)\n",
    "\n",
    "#for row in state_list:\n",
    "\n",
    "    #print(row)\n",
    "    #print(row.find_all_next('tr'))\n",
    "\n",
    "result = state_list.find_all('tr')\n",
    "\n",
    "#print(result)\n",
    "\n",
    "for row in result:\n",
    "    try:\n",
    "        td = row.find_all_next('td')\n",
    "        a = td[1].text\n",
    "        b = td[1].text\n",
    "        #print(a, end = '')\n",
    "        #print(b)\n",
    "\n",
    "\n",
    "        print(a.strip(),b.strip())\n",
    "    except Exception as e:\n",
    "        continue\n",
    "\n",
    "    \n",
    "#for row in td:\n",
    "    #print(row.find_all('td'))\n",
    "\n"
   ]
  },
  {
   "cell_type": "code",
   "execution_count": null,
   "metadata": {},
   "outputs": [],
   "source": [
    "fields = ['City','State']\n",
    "\n",
    "filename = 'German_Cities_And_State.csv'\n",
    "rows = []\n",
    "\n",
    "for row in result:\n",
    "    try:\n",
    "        td = row.find_all_next('td')\n",
    "        #print(td[1].text)\n",
    "        #print(td[7].text)\n",
    "        #print(td[8].text)\n",
    "\n",
    "        rows.append([(td[1].text).strip(),(td[2].text).strip()])\n",
    "    except Exception as e:\n",
    "        continue\n",
    "\n",
    "        \n",
    "with open(filename,'w') as csvfile:\n",
    "    csvwriter = csv.writer(csvfile)\n",
    "\n",
    "    csvwriter.writerow(fields)\n",
    "\n",
    "    csvwriter.writerows(rows)"
   ]
  },
  {
   "cell_type": "code",
   "execution_count": null,
   "metadata": {},
   "outputs": [],
   "source": []
  }
 ],
 "metadata": {
  "kernelspec": {
   "display_name": "Python 3.8.10 64-bit",
   "language": "python",
   "name": "python3"
  },
  "language_info": {
   "name": "python",
   "version": "3.8.10"
  },
  "orig_nbformat": 4,
  "vscode": {
   "interpreter": {
    "hash": "916dbcbb3f70747c44a77c7bcd40155683ae19c65e1c03b4aa3499c5328201f1"
   }
  }
 },
 "nbformat": 4,
 "nbformat_minor": 2
}
