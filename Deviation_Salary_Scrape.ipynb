{
 "cells": [
  {
   "cell_type": "code",
   "execution_count": 1,
   "metadata": {},
   "outputs": [
    {
     "name": "stdout",
     "output_type": "stream",
     "text": [
      "The history saving thread hit an unexpected error (DatabaseError('database disk image is malformed')).History will not be written to the database.\n"
     ]
    }
   ],
   "source": [
    "from bs4 import BeautifulSoup\n",
    "import requests\n",
    "import csv"
   ]
  },
  {
   "cell_type": "code",
   "execution_count": 22,
   "metadata": {},
   "outputs": [
    {
     "name": "stdout",
     "output_type": "stream",
     "text": [
      "Baden-Württemberg\n",
      "+ 7,9%\n",
      "Hesse\n",
      "+ 7,2%\n",
      "Hamburg\n",
      "+ 5,5%\n",
      "Bavaria\n",
      "+ 4,4%\n",
      "North Rhine-Westphalia\n",
      "+ 1,1%\n",
      "Rhineland-Palatinate\n",
      "- 1,4%\n",
      "Bremen\n",
      "- 2,9%\n",
      "Saarland\n",
      "- 4,4%\n",
      "Berlin\n",
      "- 5,7%\n",
      "Lower Saxony\n",
      "- 6,8%\n",
      "Schleswig-Holstein\n",
      "- 9,8%\n",
      "Thuringia\n",
      "- 17,0%\n",
      "Saxony\n",
      "- 18,5%\n",
      "Brandenburg\n",
      "- 18,8%\n",
      "Saxony-Anhalt\n",
      "- 19,5%\n",
      "Mecklenburg-Vorpommern\n",
      "- 22,0%\n"
     ]
    }
   ],
   "source": [
    "source = requests.get('https://www.iamexpat.de/career/working-in-germany/salary-payslip-german-minimum-wage')\n",
    "\n",
    "soup = BeautifulSoup(source.text,'html.parser')\n",
    "\n",
    "#print(soup.prettify())\n",
    "table = soup.find_all('tbody')\n",
    "\n",
    "\n",
    "#print(table[1])\n",
    "\n",
    "\n",
    "deviation_list = []\n",
    "deviation_list.append(table[1])\n",
    "\n",
    "#print(deviation_list)\n",
    "\n",
    "for row in deviation_list:\n",
    "    #print(row)\n",
    "    #print(row.find_all('tr'))\n",
    "\n",
    "    result = row.find_all('tr')\n",
    "\n",
    "    #print(result)\n",
    "\n",
    "for row in result:\n",
    "    try:\n",
    "        td = row.find_all('td')\n",
    "        print(td[0].text)\n",
    "        print(td[1].text)\n",
    "        #print(td[8].text)\n",
    "    except Exception as e:\n",
    "        continue\n",
    "\n",
    "    \n",
    "#for row in td:\n",
    "    #print(row.find_all('td'))\n",
    "\n"
   ]
  },
  {
   "cell_type": "code",
   "execution_count": 23,
   "metadata": {},
   "outputs": [],
   "source": [
    "fields = ['State', 'Salary_Deviation']\n",
    "\n",
    "filename = 'German_Salaries_Deviation_By_State.csv'\n",
    "rows = []\n",
    "\n",
    "for row in result:\n",
    "    try:\n",
    "        td = row.find_all('td')\n",
    "        #print(td[0].text)\n",
    "        #print(td[1].text)\n",
    "        rows.append([td[0].text,td[1].text])\n",
    "    except Exception as e:\n",
    "        continue\n",
    "\n",
    "        \n",
    "with open(filename,'w') as csvfile:\n",
    "    csvwriter = csv.writer(csvfile)\n",
    "\n",
    "    csvwriter.writerow(fields)\n",
    "\n",
    "    csvwriter.writerows(rows)"
   ]
  },
  {
   "cell_type": "code",
   "execution_count": null,
   "metadata": {},
   "outputs": [],
   "source": []
  }
 ],
 "metadata": {
  "kernelspec": {
   "display_name": "Python 3.8.10 64-bit",
   "language": "python",
   "name": "python3"
  },
  "language_info": {
   "codemirror_mode": {
    "name": "ipython",
    "version": 3
   },
   "file_extension": ".py",
   "mimetype": "text/x-python",
   "name": "python",
   "nbconvert_exporter": "python",
   "pygments_lexer": "ipython3",
   "version": "3.8.10"
  },
  "orig_nbformat": 4,
  "vscode": {
   "interpreter": {
    "hash": "916dbcbb3f70747c44a77c7bcd40155683ae19c65e1c03b4aa3499c5328201f1"
   }
  }
 },
 "nbformat": 4,
 "nbformat_minor": 2
}
