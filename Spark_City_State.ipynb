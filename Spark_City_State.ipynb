{
 "cells": [
  {
   "cell_type": "code",
   "execution_count": 1,
   "metadata": {},
   "outputs": [
    {
     "name": "stdout",
     "output_type": "stream",
     "text": [
      "The history saving thread hit an unexpected error (DatabaseError('database disk image is malformed')).History will not be written to the database.\n"
     ]
    }
   ],
   "source": [
    "import findspark\n",
    "findspark.init()\n",
    "\n",
    "from pyspark.sql import SparkSession\n",
    "from pyspark.sql.types import StructType,StructField, StringType, IntegerType, ArrayType, LongType, DoubleType, FloatType, DataType, DateType, TimestampType\n",
    "from pyspark.sql.functions import regexp_replace,row_number\n",
    "from pyspark.sql.window import Window"
   ]
  },
  {
   "cell_type": "code",
   "execution_count": 2,
   "metadata": {},
   "outputs": [
    {
     "name": "stderr",
     "output_type": "stream",
     "text": [
      "22/08/27 05:51:58 WARN Utils: Your hostname, ubuntu resolves to a loopback address: 127.0.1.1; using 192.168.197.132 instead (on interface ens33)\n",
      "22/08/27 05:51:58 WARN Utils: Set SPARK_LOCAL_IP if you need to bind to another address\n",
      "Using Spark's default log4j profile: org/apache/spark/log4j-defaults.properties\n",
      "Setting default log level to \"WARN\".\n",
      "To adjust logging level use sc.setLogLevel(newLevel). For SparkR, use setLogLevel(newLevel).\n",
      "22/08/27 05:52:03 WARN NativeCodeLoader: Unable to load native-hadoop library for your platform... using builtin-java classes where applicable\n",
      "22/08/27 05:52:08 WARN Utils: Service 'SparkUI' could not bind on port 4040. Attempting port 4041.\n",
      "22/08/27 05:52:08 WARN Utils: Service 'SparkUI' could not bind on port 4041. Attempting port 4042.\n"
     ]
    }
   ],
   "source": [
    "spark = (SparkSession\n",
    " .builder\n",
    " .appName(\"City_State\")\n",
    " .getOrCreate())"
   ]
  },
  {
   "cell_type": "code",
   "execution_count": 23,
   "metadata": {},
   "outputs": [],
   "source": [
    "schema = StructType([\n",
    "             StructField('City', StringType(), True),\n",
    "             StructField('State', StringType(), True)\n",
    "         ])"
   ]
  },
  {
   "cell_type": "code",
   "execution_count": 24,
   "metadata": {},
   "outputs": [],
   "source": [
    "df =  spark.read.option('header','True').schema(schema).option('sep',',').csv('German_Cities_And_State.csv')"
   ]
  },
  {
   "cell_type": "code",
   "execution_count": 25,
   "metadata": {},
   "outputs": [
    {
     "name": "stdout",
     "output_type": "stream",
     "text": [
      "root\n",
      " |-- City: string (nullable = true)\n",
      " |-- State: string (nullable = true)\n",
      "\n"
     ]
    }
   ],
   "source": [
    "df.printSchema()"
   ]
  },
  {
   "cell_type": "code",
   "execution_count": 32,
   "metadata": {},
   "outputs": [
    {
     "name": "stdout",
     "output_type": "stream",
     "text": [
      "+--------------------+--------------------+\n",
      "|                City|               State|\n",
      "+--------------------+--------------------+\n",
      "|              Berlin|              Berlin|\n",
      "|              Berlin|              Berlin|\n",
      "|             Hamburg|             Hamburg|\n",
      "|    Munich (München)|             Bavaria|\n",
      "|      Cologne (Köln)|North Rhine-Westp...|\n",
      "|   Frankfurt am Main|               Hesse|\n",
      "|           Stuttgart|   Baden-Württemberg|\n",
      "|          Düsseldorf|North Rhine-Westp...|\n",
      "|            Dortmund|North Rhine-Westp...|\n",
      "|               Essen|North Rhine-Westp...|\n",
      "|             Leipzig|              Saxony|\n",
      "|              Bremen|              Bremen|\n",
      "|             Dresden|              Saxony|\n",
      "|  Hanover (Hannover)|        Lower Saxony|\n",
      "|Nuremberg (Nürnberg)|             Bavaria|\n",
      "|            Duisburg|North Rhine-Westp...|\n",
      "|              Bochum|North Rhine-Westp...|\n",
      "|           Wuppertal|North Rhine-Westp...|\n",
      "|           Bielefeld|North Rhine-Westp...|\n",
      "|                Bonn|North Rhine-Westp...|\n",
      "+--------------------+--------------------+\n",
      "only showing top 20 rows\n",
      "\n"
     ]
    }
   ],
   "source": [
    "df.show()"
   ]
  },
  {
   "cell_type": "code",
   "execution_count": 33,
   "metadata": {},
   "outputs": [],
   "source": [
    "df = df.dropDuplicates()"
   ]
  },
  {
   "cell_type": "code",
   "execution_count": 34,
   "metadata": {},
   "outputs": [
    {
     "name": "stdout",
     "output_type": "stream",
     "text": [
      "+-----------------+--------------------+\n",
      "|             City|               State|\n",
      "+-----------------+--------------------+\n",
      "|        Darmstadt|               Hesse|\n",
      "|       Reutlingen|   Baden-Württemberg|\n",
      "|       Hildesheim|        Lower Saxony|\n",
      "|          Krefeld|North Rhine-Westp...|\n",
      "|           Kassel|               Hesse|\n",
      "|           Siegen|North Rhine-Westp...|\n",
      "|        Magdeburg|       Saxony-Anhalt|\n",
      "|          Leipzig|              Saxony|\n",
      "|    Halle (Saale)|       Saxony-Anhalt|\n",
      "|          Potsdam|         Brandenburg|\n",
      "|              Ulm|   Baden-Württemberg|\n",
      "|       Regensburg|             Bavaria|\n",
      "|Offenbach am Main|               Hesse|\n",
      "|        Pforzheim|   Baden-Württemberg|\n",
      "|       Düsseldorf|North Rhine-Westp...|\n",
      "| Munich (München)|             Bavaria|\n",
      "|        Oldenburg|        Lower Saxony|\n",
      "|         Chemnitz|              Saxony|\n",
      "|       Leverkusen|North Rhine-Westp...|\n",
      "|             Hamm|North Rhine-Westp...|\n",
      "+-----------------+--------------------+\n",
      "only showing top 20 rows\n",
      "\n"
     ]
    }
   ],
   "source": [
    "df.show()"
   ]
  },
  {
   "cell_type": "code",
   "execution_count": 35,
   "metadata": {},
   "outputs": [
    {
     "name": "stderr",
     "output_type": "stream",
     "text": [
      "22/08/27 06:35:46 WARN WindowExec: No Partition Defined for Window operation! Moving all data to a single partition, this can cause serious performance degradation.\n",
      "22/08/27 06:35:46 WARN WindowExec: No Partition Defined for Window operation! Moving all data to a single partition, this can cause serious performance degradation.\n",
      "22/08/27 06:35:47 WARN WindowExec: No Partition Defined for Window operation! Moving all data to a single partition, this can cause serious performance degradation.\n",
      "22/08/27 06:35:47 WARN WindowExec: No Partition Defined for Window operation! Moving all data to a single partition, this can cause serious performance degradation.\n"
     ]
    },
    {
     "name": "stdout",
     "output_type": "stream",
     "text": [
      "+--------------------+-----------------+---+\n",
      "|City                |State            |Id |\n",
      "+--------------------+-----------------+---+\n",
      "|Reutlingen          |Baden-Württemberg|1  |\n",
      "|Ulm                 |Baden-Württemberg|2  |\n",
      "|Pforzheim           |Baden-Württemberg|3  |\n",
      "|Stuttgart           |Baden-Württemberg|4  |\n",
      "|Karlsruhe           |Baden-Württemberg|5  |\n",
      "|Freiburg im Breisgau|Baden-Württemberg|6  |\n",
      "|Heilbronn           |Baden-Württemberg|7  |\n",
      "|Heidelberg          |Baden-Württemberg|8  |\n",
      "|Mannheim            |Baden-Württemberg|9  |\n",
      "|Regensburg          |Bavaria          |10 |\n",
      "|Munich (München)    |Bavaria          |11 |\n",
      "|Nuremberg (Nürnberg)|Bavaria          |12 |\n",
      "|Würzburg            |Bavaria          |13 |\n",
      "|Ingolstadt          |Bavaria          |14 |\n",
      "|Fürth               |Bavaria          |15 |\n",
      "|Augsburg            |Bavaria          |16 |\n",
      "|Erlangen            |Bavaria          |17 |\n",
      "|Berlin              |Berlin           |18 |\n",
      "|Potsdam             |Brandenburg      |19 |\n",
      "|Bremen              |Bremen           |20 |\n",
      "+--------------------+-----------------+---+\n",
      "only showing top 20 rows\n",
      "\n"
     ]
    }
   ],
   "source": [
    "window = Window.orderBy('State')\n",
    "df = df.withColumn('Id',row_number().over(window))\n",
    "\n",
    "df.show(truncate=False)"
   ]
  },
  {
   "cell_type": "code",
   "execution_count": 36,
   "metadata": {},
   "outputs": [
    {
     "name": "stderr",
     "output_type": "stream",
     "text": [
      "22/08/27 06:36:12 WARN WindowExec: No Partition Defined for Window operation! Moving all data to a single partition, this can cause serious performance degradation.\n",
      "22/08/27 06:36:12 WARN WindowExec: No Partition Defined for Window operation! Moving all data to a single partition, this can cause serious performance degradation.\n",
      "22/08/27 06:36:13 WARN WindowExec: No Partition Defined for Window operation! Moving all data to a single partition, this can cause serious performance degradation.\n",
      "22/08/27 06:36:13 WARN WindowExec: No Partition Defined for Window operation! Moving all data to a single partition, this can cause serious performance degradation.\n",
      "                                                                                \r"
     ]
    }
   ],
   "source": [
    "df.write.format('csv').option('header','true').mode('overwrite').save('State')"
   ]
  },
  {
   "cell_type": "code",
   "execution_count": null,
   "metadata": {},
   "outputs": [],
   "source": []
  }
 ],
 "metadata": {
  "kernelspec": {
   "display_name": "Python 3.8.10 64-bit",
   "language": "python",
   "name": "python3"
  },
  "language_info": {
   "codemirror_mode": {
    "name": "ipython",
    "version": 3
   },
   "file_extension": ".py",
   "mimetype": "text/x-python",
   "name": "python",
   "nbconvert_exporter": "python",
   "pygments_lexer": "ipython3",
   "version": "3.8.10"
  },
  "orig_nbformat": 4,
  "vscode": {
   "interpreter": {
    "hash": "916dbcbb3f70747c44a77c7bcd40155683ae19c65e1c03b4aa3499c5328201f1"
   }
  }
 },
 "nbformat": 4,
 "nbformat_minor": 2
}
