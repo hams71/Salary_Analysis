{
 "cells": [
  {
   "cell_type": "code",
   "execution_count": null,
   "metadata": {},
   "outputs": [],
   "source": [
    "from bs4 import BeautifulSoup\n",
    "import requests\n",
    "import csv"
   ]
  },
  {
   "cell_type": "code",
   "execution_count": null,
   "metadata": {},
   "outputs": [],
   "source": [
    "source = requests.get('https://en.wikipedia.org/wiki/States_of_Germany')\n",
    "\n",
    "soup = BeautifulSoup(source.text,'html.parser')\n",
    "\n",
    "#print(soup.prettify())\n",
    "table = soup.find_all('table')\n",
    "\n",
    "\n",
    "print(len(table))\n",
    "\n",
    "#print(table[5])\n",
    "\n",
    "\n",
    "state_list = []\n",
    "state_list.append(table[5])\n",
    "\n",
    "#print(state_list)\n",
    "\n",
    "for row in state_list:\n",
    "\n",
    "    #print(row)\n",
    "    #print(row.find_all_next('tr')[1:])\n",
    "\n",
    "    result = row.find_all_next('tr')\n",
    "\n",
    "    #print(result)\n",
    "\n",
    "for row in result:\n",
    "    try:\n",
    "        td = row.find_all_next('td')\n",
    "        print(td[1].text)\n",
    "        print(td[7].text)\n",
    "        print(td[8].text)\n",
    "    except Exception as e:\n",
    "        continue\n",
    "\n",
    "    \n",
    "#for row in td:\n",
    "    #print(row.find_all('td'))\n",
    "\n"
   ]
  },
  {
   "cell_type": "code",
   "execution_count": null,
   "metadata": {},
   "outputs": [],
   "source": [
    "fields = ['State','Area','Population']\n",
    "\n",
    "filename = 'German_States.csv'\n",
    "rows = []\n",
    "\n",
    "for row in result:\n",
    "    try:\n",
    "        td = row.find_all_next('td')\n",
    "        #print(td[1].text)\n",
    "        #print(td[7].text)\n",
    "        #print(td[8].text)\n",
    "\n",
    "        rows.append([td[1].text,td[7].text,td[8].text])\n",
    "    except Exception as e:\n",
    "        continue\n",
    "\n",
    "        \n",
    "with open(filename,'w') as csvfile:\n",
    "    csvwriter = csv.writer(csvfile)\n",
    "\n",
    "    csvwriter.writerow(fields)\n",
    "\n",
    "    csvwriter.writerows(rows)"
   ]
  },
  {
   "cell_type": "code",
   "execution_count": null,
   "metadata": {},
   "outputs": [],
   "source": []
  }
 ],
 "metadata": {
  "kernelspec": {
   "display_name": "Python 3.8.10 64-bit",
   "language": "python",
   "name": "python3"
  },
  "language_info": {
   "codemirror_mode": {
    "name": "ipython",
    "version": 3
   },
   "file_extension": ".py",
   "mimetype": "text/x-python",
   "name": "python",
   "nbconvert_exporter": "python",
   "pygments_lexer": "ipython3",
   "version": "3.8.10"
  },
  "orig_nbformat": 4,
  "vscode": {
   "interpreter": {
    "hash": "916dbcbb3f70747c44a77c7bcd40155683ae19c65e1c03b4aa3499c5328201f1"
   }
  }
 },
 "nbformat": 4,
 "nbformat_minor": 2
}
