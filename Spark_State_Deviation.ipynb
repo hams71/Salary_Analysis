{
 "cells": [
  {
   "cell_type": "code",
   "execution_count": 10,
   "metadata": {},
   "outputs": [],
   "source": [
    "import findspark\n",
    "findspark.init()\n",
    "\n",
    "from pyspark.sql import SparkSession\n",
    "from pyspark.sql.types import StructType,StructField, StringType, IntegerType, ArrayType, LongType, DoubleType, FloatType, DataType, DateType, TimestampType,DecimalType\n",
    "from pyspark.sql.functions import regexp_replace,row_number\n",
    "from pyspark.sql.window import Window"
   ]
  },
  {
   "cell_type": "code",
   "execution_count": 2,
   "metadata": {},
   "outputs": [
    {
     "name": "stderr",
     "output_type": "stream",
     "text": [
      "22/08/27 08:09:20 WARN Utils: Your hostname, ubuntu resolves to a loopback address: 127.0.1.1; using 192.168.197.132 instead (on interface ens33)\n",
      "22/08/27 08:09:20 WARN Utils: Set SPARK_LOCAL_IP if you need to bind to another address\n",
      "Using Spark's default log4j profile: org/apache/spark/log4j-defaults.properties\n",
      "Setting default log level to \"WARN\".\n",
      "To adjust logging level use sc.setLogLevel(newLevel). For SparkR, use setLogLevel(newLevel).\n",
      "22/08/27 08:09:22 WARN NativeCodeLoader: Unable to load native-hadoop library for your platform... using builtin-java classes where applicable\n",
      "22/08/27 08:09:26 WARN Utils: Service 'SparkUI' could not bind on port 4040. Attempting port 4041.\n",
      "22/08/27 08:09:26 WARN Utils: Service 'SparkUI' could not bind on port 4041. Attempting port 4042.\n",
      "22/08/27 08:09:26 WARN Utils: Service 'SparkUI' could not bind on port 4042. Attempting port 4043.\n"
     ]
    }
   ],
   "source": [
    "spark = (SparkSession\n",
    " .builder\n",
    " .appName(\"State_Deviation\")\n",
    " .getOrCreate())"
   ]
  },
  {
   "cell_type": "code",
   "execution_count": 44,
   "metadata": {},
   "outputs": [],
   "source": [
    "schema = StructType([\n",
    "             StructField('State', StringType(), True),\n",
    "             StructField('Salary_Deviation', StringType(), True)\n",
    "         ])"
   ]
  },
  {
   "cell_type": "code",
   "execution_count": 104,
   "metadata": {},
   "outputs": [],
   "source": [
    "df =  spark.read.option('header','True').schema(schema).csv('German_Salaries_Deviation_By_State.csv')"
   ]
  },
  {
   "cell_type": "code",
   "execution_count": 105,
   "metadata": {},
   "outputs": [],
   "source": [
    "df = df.withColumn('Salary_Deviation',regexp_replace(df.Salary_Deviation,pattern='[!,% ]', replacement=''))"
   ]
  },
  {
   "cell_type": "code",
   "execution_count": 106,
   "metadata": {},
   "outputs": [
    {
     "name": "stdout",
     "output_type": "stream",
     "text": [
      "+--------------------+----------------+\n",
      "|               State|Salary_Deviation|\n",
      "+--------------------+----------------+\n",
      "|   Baden-Württemberg|             +79|\n",
      "|               Hesse|             +72|\n",
      "|             Hamburg|             +55|\n",
      "|             Bavaria|             +44|\n",
      "|North Rhine-Westp...|             +11|\n",
      "|Rhineland-Palatinate|             -14|\n",
      "|              Bremen|             -29|\n",
      "|            Saarland|             -44|\n",
      "|              Berlin|             -57|\n",
      "|        Lower Saxony|             -68|\n",
      "|  Schleswig-Holstein|             -98|\n",
      "|           Thuringia|            -170|\n",
      "|              Saxony|            -185|\n",
      "|         Brandenburg|            -188|\n",
      "|       Saxony-Anhalt|            -195|\n",
      "|Mecklenburg-Vorpo...|            -220|\n",
      "+--------------------+----------------+\n",
      "\n"
     ]
    }
   ],
   "source": [
    "df.show()"
   ]
  },
  {
   "cell_type": "code",
   "execution_count": 107,
   "metadata": {},
   "outputs": [],
   "source": [
    "df = df.withColumn(\"Salary_Deviation\",df['Salary_Deviation'].cast('double')/10)\n"
   ]
  },
  {
   "cell_type": "code",
   "execution_count": 108,
   "metadata": {},
   "outputs": [
    {
     "name": "stdout",
     "output_type": "stream",
     "text": [
      "+--------------------+----------------+\n",
      "|               State|Salary_Deviation|\n",
      "+--------------------+----------------+\n",
      "|   Baden-Württemberg|             7.9|\n",
      "|               Hesse|             7.2|\n",
      "|             Hamburg|             5.5|\n",
      "|             Bavaria|             4.4|\n",
      "|North Rhine-Westp...|             1.1|\n",
      "|Rhineland-Palatinate|            -1.4|\n",
      "|              Bremen|            -2.9|\n",
      "|            Saarland|            -4.4|\n",
      "|              Berlin|            -5.7|\n",
      "|        Lower Saxony|            -6.8|\n",
      "|  Schleswig-Holstein|            -9.8|\n",
      "|           Thuringia|           -17.0|\n",
      "|              Saxony|           -18.5|\n",
      "|         Brandenburg|           -18.8|\n",
      "|       Saxony-Anhalt|           -19.5|\n",
      "|Mecklenburg-Vorpo...|           -22.0|\n",
      "+--------------------+----------------+\n",
      "\n"
     ]
    }
   ],
   "source": [
    "df.show()"
   ]
  },
  {
   "cell_type": "code",
   "execution_count": 109,
   "metadata": {},
   "outputs": [
    {
     "name": "stderr",
     "output_type": "stream",
     "text": [
      "22/08/27 11:07:30 WARN WindowExec: No Partition Defined for Window operation! Moving all data to a single partition, this can cause serious performance degradation.\n",
      "22/08/27 11:07:30 WARN WindowExec: No Partition Defined for Window operation! Moving all data to a single partition, this can cause serious performance degradation.\n"
     ]
    },
    {
     "name": "stdout",
     "output_type": "stream",
     "text": [
      "+----------------------+----------------+---+\n",
      "|State                 |Salary_Deviation|Id |\n",
      "+----------------------+----------------+---+\n",
      "|Baden-Württemberg     |7.9             |1  |\n",
      "|Bavaria               |4.4             |2  |\n",
      "|Berlin                |-5.7            |3  |\n",
      "|Brandenburg           |-18.8           |4  |\n",
      "|Bremen                |-2.9            |5  |\n",
      "|Hamburg               |5.5             |6  |\n",
      "|Hesse                 |7.2             |7  |\n",
      "|Lower Saxony          |-6.8            |8  |\n",
      "|Mecklenburg-Vorpommern|-22.0           |9  |\n",
      "|North Rhine-Westphalia|1.1             |10 |\n",
      "|Rhineland-Palatinate  |-1.4            |11 |\n",
      "|Saarland              |-4.4            |12 |\n",
      "|Saxony                |-18.5           |13 |\n",
      "|Saxony-Anhalt         |-19.5           |14 |\n",
      "|Schleswig-Holstein    |-9.8            |15 |\n",
      "|Thuringia             |-17.0           |16 |\n",
      "+----------------------+----------------+---+\n",
      "\n"
     ]
    }
   ],
   "source": [
    "window = Window.orderBy('State')\n",
    "df = df.withColumn('Id',row_number().over(window))\n",
    "\n",
    "df.show(truncate=False)"
   ]
  },
  {
   "cell_type": "code",
   "execution_count": 110,
   "metadata": {},
   "outputs": [
    {
     "name": "stderr",
     "output_type": "stream",
     "text": [
      "22/08/27 11:07:32 WARN WindowExec: No Partition Defined for Window operation! Moving all data to a single partition, this can cause serious performance degradation.\n",
      "22/08/27 11:07:32 WARN WindowExec: No Partition Defined for Window operation! Moving all data to a single partition, this can cause serious performance degradation.\n",
      "22/08/27 11:07:32 WARN WindowExec: No Partition Defined for Window operation! Moving all data to a single partition, this can cause serious performance degradation.\n"
     ]
    }
   ],
   "source": [
    "df.write.format('csv').option('header','true').mode('overwrite').save('State_Salary_Deviation')"
   ]
  },
  {
   "cell_type": "code",
   "execution_count": null,
   "metadata": {},
   "outputs": [],
   "source": []
  }
 ],
 "metadata": {
  "kernelspec": {
   "display_name": "Python 3.8.10 64-bit",
   "language": "python",
   "name": "python3"
  },
  "language_info": {
   "codemirror_mode": {
    "name": "ipython",
    "version": 3
   },
   "file_extension": ".py",
   "mimetype": "text/x-python",
   "name": "python",
   "nbconvert_exporter": "python",
   "pygments_lexer": "ipython3",
   "version": "3.8.10"
  },
  "orig_nbformat": 4,
  "vscode": {
   "interpreter": {
    "hash": "916dbcbb3f70747c44a77c7bcd40155683ae19c65e1c03b4aa3499c5328201f1"
   }
  }
 },
 "nbformat": 4,
 "nbformat_minor": 2
}
