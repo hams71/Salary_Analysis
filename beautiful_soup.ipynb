{
 "cells": [
  {
   "cell_type": "code",
   "execution_count": 96,
   "metadata": {},
   "outputs": [],
   "source": [
    "from bs4 import BeautifulSoup\n",
    "import requests\n",
    "import csv"
   ]
  },
  {
   "cell_type": "code",
   "execution_count": 155,
   "metadata": {},
   "outputs": [
    {
     "name": "stdout",
     "output_type": "stream",
     "text": [
      "<class 'bs4.element.ResultSet'>\n",
      "Profession = Doctor , Salary = €89,539\n",
      "Profession = Finance , Salary = €73,847\n",
      "Profession = Lawyer , Salary = €68,642\n",
      "Profession = Business Advice , Salary = €64,173\n",
      "Profession = Banking , Salary = €62,744\n",
      "Profession = Engineer , Salary = €62,564\n",
      "Profession = IT , Salary = €60,563\n",
      "Profession = Marketing, PR , Salary = €60,174\n",
      "Profession = Production , Salary = €60,046\n",
      "Profession = Distribution and Sales , Salary = €59,591\n",
      "Profession = HR , Salary = €58,029\n",
      "Profession = Construction , Salary = €57,270\n",
      "Profession = Research , Salary = €56,399\n",
      "Profession = Logistics , Salary = €50,358\n",
      "Profession = Design , Salary = €48,574\n"
     ]
    }
   ],
   "source": [
    "\"\"\"\n",
    "Using the request and beautiful soup module will request for the URL\n",
    "and then give it the the beautiful soup so that we can get the HTML in that\n",
    "\n",
    "\"\"\"\n",
    "\n",
    "from itertools import count\n",
    "\n",
    "\n",
    "try:\n",
    "    source = requests.get('https://housinganywhere.com/Germany/average-salaries-in-germany-2021')\n",
    "\n",
    "    soup = BeautifulSoup(source.text,'html.parser')\n",
    "\n",
    "    table_list = soup.find_all('table')\n",
    "    #print(soup.prettify())\n",
    "    #print(soup.find_all('tbody'))\n",
    "\n",
    "    print(type(table_list))\n",
    "\n",
    "    countries = []\n",
    "    countries.append(table_list[2])\n",
    "\n",
    "\n",
    "    #print(countries)\n",
    "    \n",
    "\n",
    "    for i in countries:\n",
    "        #print(i)\n",
    "        profession = i.find_all('tr')\n",
    "        profession_title = i.find_all('th')\n",
    "        #print(profession)\n",
    "\n",
    "    for j in profession:\n",
    "        a = j.find_all('td')\n",
    "        if len(a) <= 0:\n",
    "            pass\n",
    "        else:\n",
    "            print(\"Profession =\",a[0].text,\",\", \"Salary =\", a[1].text)\n",
    "        \n",
    "\n",
    "        \n",
    "\n",
    "\n",
    "except Exception as e:\n",
    "    print(e)\n",
    "    print(\"The URL doesnt not exist\")\n",
    "    exit('0')"
   ]
  },
  {
   "cell_type": "markdown",
   "metadata": {},
   "source": []
  },
  {
   "cell_type": "code",
   "execution_count": 158,
   "metadata": {},
   "outputs": [],
   "source": [
    "fields = ['Profession', 'Salary']\n",
    "\n",
    "filename = 'German_Salaries_By_Profession.csv'\n",
    "rows = []\n",
    "\n",
    "for j in profession:\n",
    "        a = j.find_all('td')\n",
    "        if len(a) <= 0:\n",
    "            pass\n",
    "        else:\n",
    "            rows.append([a[0].text,a[1].text])\n",
    "        \n",
    "with open(filename,'w') as csvfile:\n",
    "    csvwriter = csv.writer(csvfile)\n",
    "\n",
    "    csvwriter.writerow(fields)\n",
    "\n",
    "    csvwriter.writerows(rows)"
   ]
  },
  {
   "cell_type": "code",
   "execution_count": null,
   "metadata": {},
   "outputs": [],
   "source": []
  }
 ],
 "metadata": {
  "kernelspec": {
   "display_name": "Python 3.8.10 64-bit",
   "language": "python",
   "name": "python3"
  },
  "language_info": {
   "codemirror_mode": {
    "name": "ipython",
    "version": 3
   },
   "file_extension": ".py",
   "mimetype": "text/x-python",
   "name": "python",
   "nbconvert_exporter": "python",
   "pygments_lexer": "ipython3",
   "version": "3.8.10"
  },
  "orig_nbformat": 4,
  "vscode": {
   "interpreter": {
    "hash": "916dbcbb3f70747c44a77c7bcd40155683ae19c65e1c03b4aa3499c5328201f1"
   }
  }
 },
 "nbformat": 4,
 "nbformat_minor": 2
}
